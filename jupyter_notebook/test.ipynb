{
 "cells": [
  {
   "cell_type": "code",
   "execution_count": 2,
   "id": "initial_id",
   "metadata": {
    "collapsed": true,
    "ExecuteTime": {
     "end_time": "2025-05-05T15:50:50.266692300Z",
     "start_time": "2025-05-05T15:50:50.233366800Z"
    }
   },
   "outputs": [
    {
     "name": "stdout",
     "output_type": "stream",
     "text": [
      "The autoreload extension is already loaded. To reload it, use:\n",
      "  %reload_ext autoreload\n"
     ]
    }
   ],
   "source": [
    "import os\n",
    "%load_ext autoreload\n",
    "%autoreload 2\n",
    "\n",
    "import sys\n",
    "sys.path.append(\"/sujin/PycharmProjects/OpenRLHF\")"
   ]
  },
  {
   "cell_type": "code",
   "outputs": [],
   "source": [
    "dataset = \"Open-Orca/OpenOrca\"\n",
    "\n",
    "train_data = blending_datasets(\n",
    "    args.dataset,\n",
    "    args.dataset_probs,\n",
    "    strategy,\n",
    "    args.seed,\n",
    "    max_count=args.max_samples,\n",
    "    dataset_split=args.dataset_split,\n",
    ")\n",
    "train_data = train_data.select(range(min(args.max_samples, len(train_data))))\n",
    "train_dataset = SFTDataset(\n",
    "    train_data,\n",
    "    tokenizer,\n",
    "    args.max_len,\n",
    "    strategy,\n",
    "    pretrain_mode=args.pretrain_mode,\n",
    "    input_template=args.input_template,\n",
    "    multiturn=args.multiturn,\n",
    ")"
   ],
   "metadata": {
    "collapsed": false
   },
   "id": "902f565f62af0a62"
  }
 ],
 "metadata": {
  "kernelspec": {
   "name": "openrlhf",
   "language": "python",
   "display_name": "openrlhf"
  },
  "language_info": {
   "codemirror_mode": {
    "name": "ipython",
    "version": 2
   },
   "file_extension": ".py",
   "mimetype": "text/x-python",
   "name": "python",
   "nbconvert_exporter": "python",
   "pygments_lexer": "ipython2",
   "version": "2.7.6"
  }
 },
 "nbformat": 4,
 "nbformat_minor": 5
}
